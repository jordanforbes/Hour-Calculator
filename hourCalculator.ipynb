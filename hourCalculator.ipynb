{
 "cells": [
  {
   "cell_type": "code",
   "execution_count": 7,
   "metadata": {},
   "outputs": [
    {
     "name": "stdout",
     "output_type": "stream",
     "text": [
      "shift: 8\n"
     ]
    }
   ],
   "source": [
    "class JobInfo:\n",
    "    def __init__(self, shift, wage, sleep):\n",
    "        self.shift = shift\n",
    "        self.wage = wage\n",
    "        self.sleep = sleep \n",
    "        self.left = self.hoursLeft\n",
    "        \n",
    "        \n",
    "    def hoursLeft(self):\n",
    "        return 24 - self.shift\n",
    "\n",
    "    def sleepTime(shift):\n",
    "        timeLeft = hoursLeft(shift)-sleep\n",
    "        return timeLeft\n",
    "\n",
    "    def wageCalc(shift,wage):\n",
    "        return shift * wage\n",
    "    \n",
    "    def printInfo(self):\n",
    "        message = \"shift: \"+str(self.shift)+\"wage: \"+str(self.wage)+\"sleep: \"+str(self.sleep)+\"time left: \"+str(self.left)\n",
    "        return message\n",
    "\n",
    "print(JobInfo(8,16.3,8).printInfo())"
   ]
  },
  {
   "cell_type": "markdown",
   "metadata": {},
   "source": [
    "3/31\n",
    "1:02PM\n",
    "long shift."
   ]
  }
 ],
 "metadata": {
  "interpreter": {
   "hash": "179fbfc1336d5405ac7b706d3dc17bb7572a11647f234436ffdd773c93716b2f"
  },
  "kernelspec": {
   "display_name": "Python 3.9.12 64-bit (windows store)",
   "language": "python",
   "name": "python3"
  },
  "language_info": {
   "codemirror_mode": {
    "name": "ipython",
    "version": 3
   },
   "file_extension": ".py",
   "mimetype": "text/x-python",
   "name": "python",
   "nbconvert_exporter": "python",
   "pygments_lexer": "ipython3",
   "version": "3.9.12"
  },
  "orig_nbformat": 4
 },
 "nbformat": 4,
 "nbformat_minor": 2
}
