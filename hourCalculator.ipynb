{
 "cells": [
  {
   "cell_type": "code",
   "execution_count": 7,
   "metadata": {},
   "outputs": [
    {
     "name": "stdout",
     "output_type": "stream",
     "text": [
      "16 in the day\n",
      "4 not including sleep\n"
     ]
    }
   ],
   "source": [
    "def hoursLeft(shift):\n",
    "    return 24 - shift\n",
    "\n",
    "def sleepTime(shift,sleep):\n",
    "    timeLeft = hoursLeft(shift)-sleep\n",
    "    return timeLeft\n",
    "\n",
    "print(hoursLeft(8),\"in the day\")\n",
    "print(sleepTime(12,8),\"not including sleep\")"
   ]
  },
  {
   "cell_type": "markdown",
   "metadata": {},
   "source": [
    "3/31\n",
    "1:02PM\n",
    "long shift."
   ]
  }
 ],
 "metadata": {
  "interpreter": {
   "hash": "179fbfc1336d5405ac7b706d3dc17bb7572a11647f234436ffdd773c93716b2f"
  },
  "kernelspec": {
   "display_name": "Python 3.9.12 64-bit (windows store)",
   "language": "python",
   "name": "python3"
  },
  "language_info": {
   "codemirror_mode": {
    "name": "ipython",
    "version": 3
   },
   "file_extension": ".py",
   "mimetype": "text/x-python",
   "name": "python",
   "nbconvert_exporter": "python",
   "pygments_lexer": "ipython3",
   "version": "3.9.12"
  },
  "orig_nbformat": 4
 },
 "nbformat": 4,
 "nbformat_minor": 2
}
